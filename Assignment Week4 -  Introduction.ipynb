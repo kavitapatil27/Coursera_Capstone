{
 "cells": [
  {
   "cell_type": "markdown",
   "metadata": {
    "collapsed": true
   },
   "source": [
    "<h1>A Recommender System for building an Indian restaurant in New York</h1>\n",
    "\n",
    "<h3><b>Brief Introduction</b></h3><br/>\n",
    "\n",
    "\n",
    "<i>Project Description</i><br/>\n",
    "    \n",
    "  <b>  New York City's demographics show that it is a large and ethnically diverse metropolis. It is the largest city in the United States with a long history of international immigration. New York City was home to nearly 8.5 million people in 2018, accounting for over 40% of the population of New York State and a slightly lower percentage of the New York metropolitan area, home to approximately 23.6 million. Over the last decade the city has been growing faster than the region. The New York region continues to be by far the leading metropolitan gateway for legal immigrants admitted into the United States.<br/>\n",
    " </b><b>   \n",
    "    In this project we will go through the entire neighborhood of New York by analyzing the chain of restaurants serving Indian food nearby.By doing this we will be able to decide whether it is wise to open an Indian restaurant. For analysis we will find the preferred cuisine of the population, most profitable area as to figure out the area where most of the population visits. If the area is profitable, where exactly the restaurant should be so that the business yields more profit to the owner.\n",
    "</b>"
   ]
  },
  {
   "cell_type": "markdown",
   "metadata": {},
   "source": [
    "<h3><b>Business Problem</b></h3><br/>\n",
    "<b>\n",
    "1. What is / are the best location(s) for Indian cuisine in New York City?<br/>\n",
    "2. In what Neighborhood and/or borough should the investor open a Indian restaurant to have the best chance of being successful?<br/>\n",
    "3. Where would I go in New York City to have the best Indian food?\n",
    "    </b>"
   ]
  },
  {
   "cell_type": "markdown",
   "metadata": {},
   "source": [
    "<h3><b>Data to be used</b></h3><br/>\n",
    "<b>\n",
    "\n",
    "Data Sources:<br/>\n",
    "\n",
    "a) Then I’m using “https://cocl.us/new_york_dataset” csv file to get all the geographical coordinates of the neighborhoods.<br/>\n",
    "\n",
    "b) To get location and other information about various venues in New York I’m using Foursquare’s explore API. Using the Foursquare’s explore API (which gives venues recommendations), I’m fetching details about the venues up present in Toronto and collected their names, categories and locations (latitude and longitude).<br/>\n",
    "From Foursquare API (https://developer.foursquare.com/docs), I retrieved the following for each venue:<br/>\n",
    "&nbsp;&nbsp;Name: The name of the venue.<br/>\n",
    "&nbsp;&nbsp;Category: The category type as defined by the API.<br/>\n",
    "&nbsp;&nbsp;Latitude: The latitude value of the venue.<br/>\n",
    "&nbsp;&nbsp;Longitude: The longitude value of the venue.<br/><br/>\n",
    "All data related to locations and quality of Indian restaurants will be obtained via the FourSquare API utilized via the Request library in Python.</b>"
   ]
  },
  {
   "cell_type": "code",
   "execution_count": null,
   "metadata": {},
   "outputs": [],
   "source": []
  }
 ],
 "metadata": {
  "kernelspec": {
   "display_name": "Python 3.6",
   "language": "python",
   "name": "python3"
  },
  "language_info": {
   "codemirror_mode": {
    "name": "ipython",
    "version": 3
   },
   "file_extension": ".py",
   "mimetype": "text/x-python",
   "name": "python",
   "nbconvert_exporter": "python",
   "pygments_lexer": "ipython3",
   "version": "3.6.9"
  }
 },
 "nbformat": 4,
 "nbformat_minor": 1
}
