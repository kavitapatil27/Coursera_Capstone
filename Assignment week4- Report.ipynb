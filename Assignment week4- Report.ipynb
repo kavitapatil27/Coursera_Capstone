{
 "cells": [
  {
   "cell_type": "markdown",
   "metadata": {
    "collapsed": true
   },
   "source": [
    "<h1>A Recommender System for building an Indian restaurant in East York, Toronto</h1>\n",
    "\n",
    "<h3>Brief Introduction</h3><br/>\n",
    "\n",
    "<b>\n",
    "<i>Part 1: Problem Description</i><br/>\n",
    "    Toronto, the capital of the province of Ontario, is the most populous Canadian city. Its diversity is reflected in Toronto’s ethnic neighborhoods such as Chinatown, Corso Italia, Greektown, Kensington Market, Koreatown, Little India, Little Italy, Little Jamaica, Little Portugal & Roncesvalles. One of the most immigrant-friendly cities in North America with more than half of the entire Indian Canadian population residing in Toronto it is one of the best places to start an Indian restaurant.<br/><br/>\n",
    " </b><b>   \n",
    "    In this project we will go through the entire neighborhood of East York, Toronto by analyzing the chain of restaurants serving Indian food nearby.By doing this we will be able to decide whether it is wise to open an Indian restaurant. For analysis we will find the preferred cuisine of the population, most profitable area as to figure out the area where most of the population visits. If the area is profitable, where exactly the restaurant should be so that the business yields more profit to the owner.\n",
    "</b>"
   ]
  },
  {
   "cell_type": "markdown",
   "metadata": {},
   "source": [
    "<h5>Part2: Data to be used</h5>\n",
    "<b>\n",
    "\n",
    "Data Sources<br/>\n",
    "a) I’m using “List of Postal code of Canada: M” (https://en.wikipedia.org/wiki/List_of_postal_codes_of_Canada:_M) wiki page to get all the information about the neighborhoods present in Toronto. This page has the postal code, borough & the name of all the neighborhoods present in Toronto.<br/>\n",
    "b) Then I’m using “https://cocl.us/Geospatial_data” csv file to get all the geographical coordinates of the neighborhoods.<br/>\n",
    "c) To get information about the distribution of population by their ethnicity I’m using “Demographics of Toronto” .<br/>(https://en.m.wikipedia.org/wiki/Demographics_of_Toronto#Ethnic_diversity) wiki page. <br/>\n",
    "d) To get location and other information about various venues in Toronto I’m using Foursquare’s explore API. Using the Foursquare’s explore API (which gives venues recommendations), I’m fetching details about the venues up present in Toronto and collected their names, categories and locations (latitude and longitude).<br/>\n",
    "From Foursquare API (https://developer.foursquare.com/docs), I retrieved the following for each venue:<br/>\n",
    "&nbsp;&nbsp;Name: The name of the venue.<br/>\n",
    "&nbsp;&nbsp;Category: The category type as defined by the API.<br/>\n",
    "&nbsp;&nbsp;Latitude: The latitude value of the venue.<br/>\n",
    "&nbsp;&nbsp;Longitude: The longitude value of the venue.</b>"
   ]
  },
  {
   "cell_type": "code",
   "execution_count": null,
   "metadata": {},
   "outputs": [],
   "source": []
  }
 ],
 "metadata": {
  "kernelspec": {
   "display_name": "Python 3.6",
   "language": "python",
   "name": "python3"
  },
  "language_info": {
   "codemirror_mode": {
    "name": "ipython",
    "version": 3
   },
   "file_extension": ".py",
   "mimetype": "text/x-python",
   "name": "python",
   "nbconvert_exporter": "python",
   "pygments_lexer": "ipython3",
   "version": "3.6.9"
  }
 },
 "nbformat": 4,
 "nbformat_minor": 1
}
